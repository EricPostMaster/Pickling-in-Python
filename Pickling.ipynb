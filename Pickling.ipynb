{
 "cells": [
  {
   "cell_type": "code",
   "execution_count": 3,
   "metadata": {},
   "outputs": [
    {
     "name": "stdout",
     "output_type": "stream",
     "text": [
      "R-Squared: 96.03\n",
      "Coefficient: 9267.24\n",
      "Intercept: 27178.6\n"
     ]
    }
   ],
   "source": [
    "import pickle\n",
    "import pandas as pd\n",
    "import numpy as np\n",
    "from sklearn.linear_model import LinearRegression\n",
    "\n",
    "# Create data\n",
    "d = {'years_experience': [1.1,1.3,1.5,2,2.2,2.9,3.2,3.7,3.9,4.5,4.9,\n",
    "                          5.1,5.3,5.9,6,7.9,8.2,8.7,9,9.6,10.3,10.5],\n",
    "     'salary': [39343,46205,37731,43525,39891,56642,64445,57189,63218,61111,\n",
    "                67938,66029,83088,81363,93940,101302,113812,109431,105582,\n",
    "                112635,122391,121872]}\n",
    "df = pd.DataFrame(data=d)\n",
    "\n",
    "# Split data\n",
    "X = pd.DataFrame(df.years_experience)\n",
    "y = pd.DataFrame(df.salary)\n",
    "\n",
    "# Fit and score regression\n",
    "reg = LinearRegression().fit(X,y)\n",
    "r_squared = reg.score(X,y)\n",
    "\n",
    "# Get coefficient to check after unpickling\n",
    "print(\"R-Squared:\", round(r_squared*100,2))\n",
    "print(f\"Coefficient: {round(reg.coef_[0][0],2)}\")\n",
    "print(f\"Intercept: {round(reg.intercept_[0],2)}\")\n",
    "\n",
    "# Pickle the regression model object\n",
    "pickle.dump(reg, open(\"pickled_model.p\", \"wb\"))"
   ]
  }
 ],
 "metadata": {
  "kernelspec": {
   "display_name": "Python 3",
   "language": "python",
   "name": "python3"
  },
  "language_info": {
   "codemirror_mode": {
    "name": "ipython",
    "version": 3
   },
   "file_extension": ".py",
   "mimetype": "text/x-python",
   "name": "python",
   "nbconvert_exporter": "python",
   "pygments_lexer": "ipython3",
   "version": "3.7.6"
  }
 },
 "nbformat": 4,
 "nbformat_minor": 4
}
