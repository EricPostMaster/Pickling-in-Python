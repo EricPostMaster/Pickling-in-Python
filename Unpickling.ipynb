{
 "cells": [
  {
   "cell_type": "code",
   "execution_count": 5,
   "metadata": {},
   "outputs": [
    {
     "name": "stdout",
     "output_type": "stream",
     "text": [
      "Coefficient of unpickled object: 9267.24\n"
     ]
    }
   ],
   "source": [
    "import pickle\n",
    "import pandas as pd\n",
    "\n",
    "# Unpickle the regression model object\n",
    "murph = pickle.load(open(\"save.p\", \"rb\"))\n",
    "\n",
    "# The coefficient is the same!\n",
    "print(f\"Coefficient of unpickled object: {round(murph.coef_[0][0],2)}\")"
   ]
  },
  {
   "cell_type": "code",
   "execution_count": 8,
   "metadata": {},
   "outputs": [
    {
     "name": "stdout",
     "output_type": "stream",
     "text": [
      "R-Squared: 93.95\n",
      "Coefficient: 9267.24\n"
     ]
    }
   ],
   "source": [
    "# New data\n",
    "d = {'years_experience': [3,3.2,4,4,4.1,6.8,7.1,9.5],\n",
    "     'salary': [60150,54445,55794,56957,57081,91738,98273,116969]}\n",
    "test = pd.DataFrame(data=d)\n",
    "\n",
    "# Separate data into X and y\n",
    "X_test = pd.DataFrame(test.years_experience)\n",
    "y_test = pd.DataFrame(test.salary)\n",
    "\n",
    "# R-Squared\n",
    "r_squared = murph.score(X_test, y_test)\n",
    "\n",
    "# Predictions\n",
    "preds = murph.predict(X_test)\n",
    "\n",
    "# MAPE\n",
    "mape = abs((y_test - preds)/y_test).mean()\n",
    "# print(f\"MAPE: {round(mape[0]*100, 2)}%\")\n",
    "\n",
    "print(f\"R-Squared: {round(r_squared*100, 2)}\")\n",
    "print(f\"Coefficient: {round(murph.coef_[0][0],2)}\")"
   ]
  }
 ],
 "metadata": {
  "kernelspec": {
   "display_name": "Python 3",
   "language": "python",
   "name": "python3"
  },
  "language_info": {
   "codemirror_mode": {
    "name": "ipython",
    "version": 3
   },
   "file_extension": ".py",
   "mimetype": "text/x-python",
   "name": "python",
   "nbconvert_exporter": "python",
   "pygments_lexer": "ipython3",
   "version": "3.7.6"
  }
 },
 "nbformat": 4,
 "nbformat_minor": 4
}
